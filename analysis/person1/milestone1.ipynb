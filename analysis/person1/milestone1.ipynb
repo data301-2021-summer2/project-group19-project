{
 "cells": [
  {
   "cell_type": "code",
   "execution_count": 5,
   "id": "f289a0f3-0870-4318-be7e-008eb977c262",
   "metadata": {},
   "outputs": [
    {
     "name": "stdout",
     "output_type": "stream",
     "text": [
      "          datum  M01AB   M01AE  N02BA  N02BE  N05B  N05C   R03   R06  Year  \\\n",
      "0      1/2/2014   0.00   3.670   3.40  32.40   7.0   0.0   0.0  2.00  2014   \n",
      "1      1/3/2014   8.00   4.000   4.40  50.60  16.0   0.0  20.0  4.00  2014   \n",
      "2      1/4/2014   2.00   1.000   6.50  61.85  10.0   0.0   9.0  1.00  2014   \n",
      "3      1/5/2014   4.00   3.000   7.00  41.10   8.0   0.0   3.0  0.00  2014   \n",
      "4      1/6/2014   5.00   1.000   4.50  21.70  16.0   2.0   6.0  2.00  2014   \n",
      "...         ...    ...     ...    ...    ...   ...   ...   ...   ...   ...   \n",
      "2101  10/4/2019   7.34   5.683   2.25  22.45  13.0   0.0   1.0  1.00  2019   \n",
      "2102  10/5/2019   3.84   5.010   6.00  25.40   7.0   0.0   0.0  0.33  2019   \n",
      "2103  10/6/2019   4.00  11.690   2.00  34.60   6.0   0.0   5.0  4.20  2019   \n",
      "2104  10/7/2019   7.34   4.507   3.00  50.80   6.0   0.0  10.0  1.00  2019   \n",
      "2105  10/8/2019   0.33   1.730   0.50  44.30  20.0   2.0   2.0  0.00  2019   \n",
      "\n",
      "      Month  Hour Weekday Name  \n",
      "0         1   248     Thursday  \n",
      "1         1   276       Friday  \n",
      "2         1   276     Saturday  \n",
      "3         1   276       Sunday  \n",
      "4         1   276       Monday  \n",
      "...     ...   ...          ...  \n",
      "2101     10   276       Friday  \n",
      "2102     10   276     Saturday  \n",
      "2103     10   276       Sunday  \n",
      "2104     10   276       Monday  \n",
      "2105     10   190      Tuesday  \n",
      "\n",
      "[2106 rows x 13 columns]\n"
     ]
    }
   ],
   "source": [
    "import pandas\n",
    "x = pandas.read_csv(\"salesdaily.csv\")\n",
    "print(x)"
   ]
  }
 ],
 "metadata": {
  "kernelspec": {
   "display_name": "Python 3 (ipykernel)",
   "language": "python",
   "name": "python3"
  },
  "language_info": {
   "codemirror_mode": {
    "name": "ipython",
    "version": 3
   },
   "file_extension": ".py",
   "mimetype": "text/x-python",
   "name": "python",
   "nbconvert_exporter": "python",
   "pygments_lexer": "ipython3",
   "version": "3.8.5"
  }
 },
 "nbformat": 4,
 "nbformat_minor": 5
}
